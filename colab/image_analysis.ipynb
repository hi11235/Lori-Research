{
  "nbformat": 4,
  "nbformat_minor": 0,
  "metadata": {
    "colab": {
      "provenance": [],
      "mount_file_id": "1m5qIVCwWunWvhmGrCvBXMuGM4qa7aVCd",
      "authorship_tag": "ABX9TyN048qRjtTe0lI9y5UnaDmA",
      "include_colab_link": true
    },
    "kernelspec": {
      "name": "python3",
      "display_name": "Python 3"
    },
    "language_info": {
      "name": "python"
    }
  },
  "cells": [
    {
      "cell_type": "markdown",
      "metadata": {
        "id": "view-in-github",
        "colab_type": "text"
      },
      "source": [
        "<a href=\"https://colab.research.google.com/github/hi11235/Lori-Research/blob/main/image_analysis.ipynb\" target=\"_parent\"><img src=\"https://colab.research.google.com/assets/colab-badge.svg\" alt=\"Open In Colab\"/></a>"
      ]
    },
    {
      "cell_type": "code",
      "source": [
        "from PIL import Image, ImageFilter, ImageDraw\n",
        "import numpy as np\n",
        "from scipy.interpolate import splprep, splev\n",
        "import cv2\n",
        "from google.colab import drive\n",
        "import os\n",
        "import csv\n",
        "\n",
        "drive.mount('/content/drive')"
      ],
      "metadata": {
        "id": "yly0DU6CSVBZ",
        "colab": {
          "base_uri": "https://localhost:8080/"
        },
        "outputId": "1f0c7ce2-f81b-42e2-cb67-d2ab8d41c3df"
      },
      "execution_count": 1,
      "outputs": [
        {
          "output_type": "stream",
          "name": "stdout",
          "text": [
            "Mounted at /content/drive\n"
          ]
        }
      ]
    },
    {
      "cell_type": "code",
      "source": [
        "# Specify the folder name you want to create\n",
        "folder_name = \"aggregate analysis\"\n",
        "\n",
        "# Create a new folder system in Google Drive\n",
        "folder_path = \"/content/drive/MyDrive/\" + folder_name + \"/\"\n",
        "result = folder_path + \"results.csv\"\n",
        "jpg_data = folder_path + \"ADD PHOTOS HERE/\"\n",
        "color_correction = folder_path + \"color_correction/\"\n",
        "choose_cell = folder_path + \"choose_cell/\"\n",
        "large_bound = folder_path + \"large_bound/\"\n",
        "choose_cell2 = folder_path + \"choose_cell2/\"\n",
        "small_bound = folder_path + \"RESULTING PHOTOS/\"\n",
        "\n",
        "if not os.path.exists(folder_path):\n",
        "    !mkdir \"$folder_path\"\n",
        "    !mkdir \"$jpg_data\"\n",
        "    !mkdir \"$color_correction\"\n",
        "    !mkdir \"$choose_cell\"\n",
        "    !mkdir \"$large_bound\"\n",
        "    !mkdir \"$jpg_data\"\n",
        "    !mkdir \"$choose_cell2\"\n",
        "    !mkdir \"$small_bound\"\n",
        "\n",
        "    with open(result, 'w', newline='') as csvfile:\n",
        "      fieldnames = ['File Name', 'Small Area (pixel)', 'Large Area (pixel)','Pixel Scale', 'Micron Scale', 'Small Area (micron)', 'Large Area (micron)']\n",
        "      writer = csv.DictWriter(csvfile, fieldnames=fieldnames)\n",
        "      writer.writeheader()\n",
        "else:\n",
        "    print(f\"Folder '{folder_name}' already exists in Google Drive, please choose another folder name unless it has already been set up\")"
      ],
      "metadata": {
        "id": "ml2dUMeizxEr",
        "colab": {
          "base_uri": "https://localhost:8080/"
        },
        "outputId": "6d6358f5-909b-43d0-a46c-0d886e132d96"
      },
      "execution_count": 6,
      "outputs": [
        {
          "output_type": "stream",
          "name": "stdout",
          "text": [
            "Folder 'aggregate analysis' already exists in Google Drive, please choose another folder name unless it has already been set up\n"
          ]
        }
      ]
    },
    {
      "cell_type": "code",
      "source": [
        "def yellow_outline(input_path, output_path, threshold=5):\n",
        "    # Open the image using PIL\n",
        "    image = Image.open(input_path)\n",
        "\n",
        "    # Convert the image to a NumPy array\n",
        "    image_array = np.array(image)\n",
        "\n",
        "    # Convert RGB to Lab color space for better color representation\n",
        "    lab_image = cv2.cvtColor(image_array, cv2.COLOR_RGB2Lab)\n",
        "\n",
        "    # Extract the 'b' channel (yellow-blue) from Lab color space\n",
        "    yellow_channel = lab_image[:, :, 2]\n",
        "\n",
        "    # Compute the gradient magnitude using the Sobel operator\n",
        "    grad_x = cv2.Sobel(yellow_channel, cv2.CV_64F, 1, 0, ksize=3)\n",
        "    grad_y = cv2.Sobel(yellow_channel, cv2.CV_64F, 0, 1, ksize=3)\n",
        "    gradient_magnitude = np.sqrt(grad_x**2 + grad_y**2)\n",
        "\n",
        "    # Threshold the gradient magnitude to identify edges\n",
        "    edge_mask = gradient_magnitude > threshold\n",
        "\n",
        "    # Create an empty image\n",
        "    output_image = np.zeros_like(image_array)\n",
        "\n",
        "    # Copy pixels from the original image where the gradient is above the threshold\n",
        "    output_image[edge_mask] = image_array[edge_mask]\n",
        "\n",
        "    # Convert the NumPy array back to a PIL Image\n",
        "    output_image_pil = Image.fromarray(output_image)\n",
        "\n",
        "    # Save the result\n",
        "    output_image_pil.save(output_path)"
      ],
      "metadata": {
        "id": "cOiPQVhDVa24"
      },
      "execution_count": 7,
      "outputs": []
    },
    {
      "cell_type": "code",
      "source": [
        "def yellow_connected_regions(input_path, output_path, threshold=8, connectivity=8):\n",
        "    # Open the image using PIL\n",
        "    image = Image.open(input_path)\n",
        "\n",
        "    # Convert the image to a NumPy array\n",
        "    image_array = np.array(image)\n",
        "\n",
        "    # Convert RGB to Lab color space for better color representation\n",
        "    lab_image = cv2.cvtColor(image_array, cv2.COLOR_RGB2Lab)\n",
        "\n",
        "    # Extract the 'b' channel (yellow-blue) from Lab color space\n",
        "    yellow_channel = lab_image[:, :, 2]\n",
        "\n",
        "    # Compute the gradient magnitude using the Sobel operator\n",
        "    grad_x = cv2.Sobel(yellow_channel, cv2.CV_64F, 1, 0, ksize=3)\n",
        "    grad_y = cv2.Sobel(yellow_channel, cv2.CV_64F, 0, 1, ksize=3)\n",
        "    gradient_magnitude = np.sqrt(grad_x**2 + grad_y**2)\n",
        "\n",
        "    # Threshold the gradient magnitude to identify edges\n",
        "    edge_mask = gradient_magnitude > threshold\n",
        "\n",
        "    # Use connected component analysis to label connected regions\n",
        "    _, labels, stats, _ = cv2.connectedComponentsWithStats(edge_mask.astype(np.uint8), connectivity)\n",
        "\n",
        "    # Sort the regions by area in descending order, only keeping regions with an area greater than min_area\n",
        "    sorted_regions = sorted((x for x in range(1, stats.shape[0]) if stats[x, cv2.CC_STAT_AREA] > 15000), key=lambda x: stats[x, cv2.CC_STAT_AREA], reverse=True)\n",
        "\n",
        "    # Find the label corresponding to the region with the average point closest to the center\n",
        "    closest_to_center_label = min(sorted_regions, key=lambda x: np.linalg.norm(stats[x, :2] + stats[x, 2:4] // 2 - np.array(image_array.shape[:2]) // 2))\n",
        "\n",
        "    # Create a mask for the region with the average point closest to the center\n",
        "    closest_to_center_mask = labels == closest_to_center_label\n",
        "\n",
        "    # Create an empty image\n",
        "    output_image = np.zeros_like(image_array)\n",
        "\n",
        "    # Copy pixels from the original image where the region is true\n",
        "    output_image[closest_to_center_mask] = image_array[closest_to_center_mask]\n",
        "\n",
        "    # Convert the NumPy array back to a PIL Image\n",
        "    output_image_pil = Image.fromarray(output_image)\n",
        "\n",
        "    # Save the result\n",
        "    output_image_pil.save(output_path)"
      ],
      "metadata": {
        "id": "J93n_WX5YSfb"
      },
      "execution_count": 8,
      "outputs": []
    },
    {
      "cell_type": "code",
      "source": [
        "def draw_yellow_convex_hull(process, input_path, output_path, blur=(501,501), smooth_curve=0.8, threshold=0, epsilon0=0.005, hull_color=(0, 255, 0)):\n",
        "    # Open the image using PIL\n",
        "    image = Image.open(input_path)\n",
        "\n",
        "    white_image = Image.new(\"RGB\", image.size, (0, 0, 255))\n",
        "    black_image = Image.new(\"RGB\", image.size, (255, 255, 255))\n",
        "    draw = ImageDraw.Draw(white_image)\n",
        "\n",
        "    # Convert the image to a NumPy array\n",
        "    image_array = np.array(image)\n",
        "\n",
        "    # Compute the sum of RGB values for each pixel\n",
        "    rgb_sum = np.sum(image_array, axis=-1)\n",
        "\n",
        "    # Create a mask for pixels containing a trace of non-black\n",
        "    non_black_mask = rgb_sum > 0\n",
        "\n",
        "    # Draw the black pixels on the new image\n",
        "    white_image_array = np.array(white_image)\n",
        "    black_image_array = np.array(black_image)\n",
        "    white_image_array[non_black_mask] = black_image_array[non_black_mask]\n",
        "    white_image = Image.fromarray(white_image_array)\n",
        "\n",
        "    # Convert the image to a NumPy array\n",
        "    image_array = cv2.GaussianBlur(white_image_array, blur, 0)\n",
        "\n",
        "    # Convert RGB to Lab color space for better color representation\n",
        "    lab_image = cv2.cvtColor(image_array, cv2.COLOR_RGB2Lab)\n",
        "\n",
        "    # Extract the 'b' channel (yellow-blue) from Lab color space\n",
        "    yellow_channel = lab_image[:, :, 2]\n",
        "\n",
        "    # Compute the gradient magnitude using the Sobel operator\n",
        "    grad_x = cv2.Sobel(yellow_channel, cv2.CV_64F, 1, 0, ksize=3)\n",
        "    grad_y = cv2.Sobel(yellow_channel, cv2.CV_64F, 0, 1, ksize=3)\n",
        "    gradient_magnitude = np.sqrt(grad_x**2 + grad_y**2)\n",
        "\n",
        "    # Threshold the gradient magnitude to identify edges\n",
        "    edge_mask = gradient_magnitude > threshold\n",
        "\n",
        "    # Use connected component analysis to label connected regions\n",
        "    _, labels, stats, _ = cv2.connectedComponentsWithStats(edge_mask.astype(np.uint8), connectivity=8)\n",
        "\n",
        "    # Find the label corresponding to the largest connected region (excluding background)\n",
        "    largest_region_label = np.argmax(stats[1:, cv2.CC_STAT_AREA]) + 1\n",
        "\n",
        "    # Find the contour of the largest connected region\n",
        "    largest_region_contour, _ = cv2.findContours((labels == largest_region_label).astype(np.uint8), cv2.RETR_EXTERNAL, cv2.CHAIN_APPROX_SIMPLE)\n",
        "\n",
        "    # Approximate the contour with a convex hull using a fixed number of points\n",
        "    epsilon = epsilon0 * cv2.arcLength(largest_region_contour[0], True)\n",
        "    convex_hull = cv2.approxPolyDP(largest_region_contour[0], epsilon, True)\n",
        "\n",
        "    points = convex_hull.squeeze()\n",
        "\n",
        "    # Use scipy to interpolate a smooth curve\n",
        "    tck, _ = splprep(points.T, s=smooth_curve)\n",
        "    smoothed_points = splev(np.linspace(0, 1, 100), tck)\n",
        "\n",
        "\n",
        "    # Create a contour from the smoothed points\n",
        "    smoothed_contour = np.array(list(zip(smoothed_points[0], smoothed_points[1])), dtype=np.int32)\n",
        "\n",
        "    # Calculate the area of the smoothed contour\n",
        "    smoothed_area = cv2.contourArea(smoothed_contour)\n",
        "\n",
        "    # Open Image\n",
        "    process = Image.open(process)\n",
        "\n",
        "    # Draw the smoothed curve on the image using PIL\n",
        "    draw = ImageDraw.Draw(process)\n",
        "    draw.line(list(zip(smoothed_points[0], smoothed_points[1])), fill=hull_color, width=5)\n",
        "\n",
        "    # Save the result\n",
        "    process.save(output_path)\n",
        "    return smoothed_area"
      ],
      "metadata": {
        "id": "pLKZ82NCkqJH"
      },
      "execution_count": 9,
      "outputs": []
    },
    {
      "cell_type": "code",
      "source": [
        "# Please add photos before running this block!!!\n",
        "\n",
        "for file_name in os.listdir(jpg_data):\n",
        "  if not file_name.startswith('.'):\n",
        "    start = jpg_data + file_name\n",
        "    output = color_correction + file_name\n",
        "    output1 = choose_cell + file_name\n",
        "    output2 = large_bound + file_name\n",
        "    output3 = choose_cell2 + file_name\n",
        "    final = small_bound + file_name\n",
        "\n",
        "    # Removes all color from image besides yellow\n",
        "    yellow_outline(start, output)\n",
        "\n",
        "    # Decrease threshold to increase tendrils included; increase threshold for a tighter enclosure\n",
        "    yellow_connected_regions(output, output1, threshold = 4, connectivity=20)\n",
        "\n",
        "    # Increase blur to make edges rounder; however, time increases exponentially; also, decrease epsilon to have more tight boundary edges\n",
        "    large_area = draw_yellow_convex_hull(start, output1, output2, blur=(109,109), epsilon0=0.001, smooth_curve=0.5)\n",
        "\n",
        "    # Decrease threshold to increase tendrils included; increase threshold for a tighter enclosure\n",
        "    yellow_connected_regions(output, output3, threshold=60)\n",
        "\n",
        "    # Increase blur to make edges rounder; set epsilon if needed\n",
        "    small_area = draw_yellow_convex_hull(output2, output3, final, blur=(9,9))\n",
        "\n",
        "    with open(result, 'a', newline='') as csvfile:\n",
        "        fieldnames = ['File Name', 'Small Area (pixel)', 'Large Area (pixel)','Pixel Scale', 'Micron Scale', 'Small Area (micron)', 'Large Area (micron)']\n",
        "        writer = csv.DictWriter(csvfile, fieldnames=fieldnames)\n",
        "\n",
        "        # Append new row to the CSV file\n",
        "        writer.writerow({'File Name': file_name[:-4], 'Large Area (pixel)': large_area, 'Small Area (pixel)': small_area})\n"
      ],
      "metadata": {
        "id": "_fWZgQITz2LR"
      },
      "execution_count": 12,
      "outputs": []
    }
  ]
}
